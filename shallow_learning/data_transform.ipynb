{
 "cells": [
  {
   "cell_type": "code",
   "execution_count": 1,
   "metadata": {},
   "outputs": [],
   "source": [
    "from unicodedata import numeric\n",
    "import pandas as pd\n",
    "import numpy as np\n",
    "from tqdm import tqdm\n",
    "import re"
   ]
  },
  {
   "cell_type": "code",
   "execution_count": 2,
   "metadata": {},
   "outputs": [],
   "source": [
    "df = pd.read_csv('data/small_data.csv')\n",
    "df['time'] = pd.to_datetime(df['time'])\n",
    "df = df.set_index('time')"
   ]
  },
  {
   "cell_type": "code",
   "execution_count": 3,
   "metadata": {},
   "outputs": [
    {
     "name": "stdout",
     "output_type": "stream",
     "text": [
      "FromInternetTCPPort443IPurn:ietf:params:mud:controllerByteCount\n",
      "FromInternetTCPPort443IPurn:ietf:params:mud:controllerPacketCount\n",
      "ToInternetTCPPort443IPurn:ietf:params:mud:controllerByteCount\n",
      "ToInternetTCPPort443IPurn:ietf:params:mud:controllerPacketCount\n"
     ]
    }
   ],
   "source": [
    "for col in df.columns:\n",
    "    if (df[col] == 0).all():\n",
    "        print(col)"
   ]
  },
  {
   "cell_type": "code",
   "execution_count": 4,
   "metadata": {},
   "outputs": [],
   "source": [
    "def nonzero_proportion(x):\n",
    "    return (x!=0).mean()"
   ]
  },
  {
   "cell_type": "code",
   "execution_count": 5,
   "metadata": {},
   "outputs": [],
   "source": [
    "numeric_cols = list(df.columns)[:-1]\n",
    "funcs = {'mean':np.mean, 'std':np.std, 'max':np.max, 'min':np.min, 'nonzero_p':nonzero_proportion}"
   ]
  },
  {
   "cell_type": "code",
   "execution_count": 6,
   "metadata": {},
   "outputs": [],
   "source": [
    "df['time_group'] = df.index.to_period('H').strftime('%d_%H')"
   ]
  },
  {
   "cell_type": "code",
   "execution_count": 7,
   "metadata": {},
   "outputs": [],
   "source": [
    "summary = {key: [] for key in funcs.keys()}\n",
    "summary['info'] = []\n",
    "summary['target'] = []"
   ]
  },
  {
   "cell_type": "code",
   "execution_count": 8,
   "metadata": {},
   "outputs": [
    {
     "name": "stderr",
     "output_type": "stream",
     "text": [
      "100%|██████████| 337/337 [01:14<00:00,  4.52it/s]\n"
     ]
    }
   ],
   "source": [
    "for time_slice in tqdm(df['time_group'].unique()):\n",
    "    for device in (df['device_mac'].unique()):\n",
    "        tmp = df.loc[(df['time_group']==time_slice)&(df['device_mac']==device)][numeric_cols]\n",
    "        for col in tmp.columns:\n",
    "            for k in funcs.keys():\n",
    "                summary[k].append(funcs[k](tmp[col]))\n",
    "            summary['info'].append(device+'_'+time_slice)\n",
    "            summary['target'].append(col)"
   ]
  },
  {
   "cell_type": "code",
   "execution_count": 9,
   "metadata": {},
   "outputs": [],
   "source": [
    "summary = pd.DataFrame(summary)\n",
    "summary.to_csv('data/transformed_data.csv',index=False)"
   ]
  },
  {
   "cell_type": "code",
   "execution_count": 10,
   "metadata": {},
   "outputs": [
    {
     "data": {
      "text/html": [
       "<div>\n",
       "<style scoped>\n",
       "    .dataframe tbody tr th:only-of-type {\n",
       "        vertical-align: middle;\n",
       "    }\n",
       "\n",
       "    .dataframe tbody tr th {\n",
       "        vertical-align: top;\n",
       "    }\n",
       "\n",
       "    .dataframe thead th {\n",
       "        text-align: right;\n",
       "    }\n",
       "</style>\n",
       "<table border=\"1\" class=\"dataframe\">\n",
       "  <thead>\n",
       "    <tr style=\"text-align: right;\">\n",
       "      <th></th>\n",
       "      <th>mean</th>\n",
       "      <th>std</th>\n",
       "      <th>max</th>\n",
       "      <th>min</th>\n",
       "      <th>nonzero_p</th>\n",
       "      <th>info</th>\n",
       "      <th>target</th>\n",
       "    </tr>\n",
       "  </thead>\n",
       "  <tbody>\n",
       "    <tr>\n",
       "      <th>0</th>\n",
       "      <td>0.000000</td>\n",
       "      <td>0.000000</td>\n",
       "      <td>0</td>\n",
       "      <td>0</td>\n",
       "      <td>0.000000</td>\n",
       "      <td>bd:0d:8e:c5_02_00</td>\n",
       "      <td>FromInternetTCPPort443IPurn:ietf:params:mud:co...</td>\n",
       "    </tr>\n",
       "    <tr>\n",
       "      <th>1</th>\n",
       "      <td>0.000000</td>\n",
       "      <td>0.000000</td>\n",
       "      <td>0</td>\n",
       "      <td>0</td>\n",
       "      <td>0.000000</td>\n",
       "      <td>bd:0d:8e:c5_02_00</td>\n",
       "      <td>FromInternetTCPPort443IPurn:ietf:params:mud:co...</td>\n",
       "    </tr>\n",
       "    <tr>\n",
       "      <th>2</th>\n",
       "      <td>0.000000</td>\n",
       "      <td>0.000000</td>\n",
       "      <td>0</td>\n",
       "      <td>0</td>\n",
       "      <td>0.000000</td>\n",
       "      <td>bd:0d:8e:c5_02_00</td>\n",
       "      <td>FromInternetTCPPort554IPurn:ietf:params:mud:co...</td>\n",
       "    </tr>\n",
       "    <tr>\n",
       "      <th>3</th>\n",
       "      <td>0.000000</td>\n",
       "      <td>0.000000</td>\n",
       "      <td>0</td>\n",
       "      <td>0</td>\n",
       "      <td>0.000000</td>\n",
       "      <td>bd:0d:8e:c5_02_00</td>\n",
       "      <td>FromInternetTCPPort554IPurn:ietf:params:mud:co...</td>\n",
       "    </tr>\n",
       "    <tr>\n",
       "      <th>4</th>\n",
       "      <td>0.000000</td>\n",
       "      <td>0.000000</td>\n",
       "      <td>0</td>\n",
       "      <td>0</td>\n",
       "      <td>0.000000</td>\n",
       "      <td>bd:0d:8e:c5_02_00</td>\n",
       "      <td>FromInternetTCPPort80IPurn:ietf:params:mud:con...</td>\n",
       "    </tr>\n",
       "    <tr>\n",
       "      <th>...</th>\n",
       "      <td>...</td>\n",
       "      <td>...</td>\n",
       "      <td>...</td>\n",
       "      <td>...</td>\n",
       "      <td>...</td>\n",
       "      <td>...</td>\n",
       "      <td>...</td>\n",
       "    </tr>\n",
       "    <tr>\n",
       "      <th>29651</th>\n",
       "      <td>0.000000</td>\n",
       "      <td>0.000000</td>\n",
       "      <td>0</td>\n",
       "      <td>0</td>\n",
       "      <td>0.000000</td>\n",
       "      <td>ee:dd:34:1d_16_00</td>\n",
       "      <td>ToInternetUDPPort1024IPurn:ietf:params:mud:con...</td>\n",
       "    </tr>\n",
       "    <tr>\n",
       "      <th>29652</th>\n",
       "      <td>0.000000</td>\n",
       "      <td>0.000000</td>\n",
       "      <td>0</td>\n",
       "      <td>0</td>\n",
       "      <td>0.000000</td>\n",
       "      <td>ee:dd:34:1d_16_00</td>\n",
       "      <td>ToLocalUDPPort5353IP224.0.0.251/32ByteCount</td>\n",
       "    </tr>\n",
       "    <tr>\n",
       "      <th>29653</th>\n",
       "      <td>0.000000</td>\n",
       "      <td>0.000000</td>\n",
       "      <td>0</td>\n",
       "      <td>0</td>\n",
       "      <td>0.000000</td>\n",
       "      <td>ee:dd:34:1d_16_00</td>\n",
       "      <td>ToLocalUDPPort5353IP224.0.0.251/32PacketCount</td>\n",
       "    </tr>\n",
       "    <tr>\n",
       "      <th>29654</th>\n",
       "      <td>157.565217</td>\n",
       "      <td>343.405430</td>\n",
       "      <td>906</td>\n",
       "      <td>0</td>\n",
       "      <td>0.173913</td>\n",
       "      <td>ee:dd:34:1d_16_00</td>\n",
       "      <td>ToLocalUDPPort67IP255.255.255.255/32ByteCount</td>\n",
       "    </tr>\n",
       "    <tr>\n",
       "      <th>29655</th>\n",
       "      <td>0.347826</td>\n",
       "      <td>0.758069</td>\n",
       "      <td>2</td>\n",
       "      <td>0</td>\n",
       "      <td>0.173913</td>\n",
       "      <td>ee:dd:34:1d_16_00</td>\n",
       "      <td>ToLocalUDPPort67IP255.255.255.255/32PacketCount</td>\n",
       "    </tr>\n",
       "  </tbody>\n",
       "</table>\n",
       "<p>29656 rows × 7 columns</p>\n",
       "</div>"
      ],
      "text/plain": [
       "             mean         std  max  min  nonzero_p               info  \\\n",
       "0        0.000000    0.000000    0    0   0.000000  bd:0d:8e:c5_02_00   \n",
       "1        0.000000    0.000000    0    0   0.000000  bd:0d:8e:c5_02_00   \n",
       "2        0.000000    0.000000    0    0   0.000000  bd:0d:8e:c5_02_00   \n",
       "3        0.000000    0.000000    0    0   0.000000  bd:0d:8e:c5_02_00   \n",
       "4        0.000000    0.000000    0    0   0.000000  bd:0d:8e:c5_02_00   \n",
       "...           ...         ...  ...  ...        ...                ...   \n",
       "29651    0.000000    0.000000    0    0   0.000000  ee:dd:34:1d_16_00   \n",
       "29652    0.000000    0.000000    0    0   0.000000  ee:dd:34:1d_16_00   \n",
       "29653    0.000000    0.000000    0    0   0.000000  ee:dd:34:1d_16_00   \n",
       "29654  157.565217  343.405430  906    0   0.173913  ee:dd:34:1d_16_00   \n",
       "29655    0.347826    0.758069    2    0   0.173913  ee:dd:34:1d_16_00   \n",
       "\n",
       "                                                  target  \n",
       "0      FromInternetTCPPort443IPurn:ietf:params:mud:co...  \n",
       "1      FromInternetTCPPort443IPurn:ietf:params:mud:co...  \n",
       "2      FromInternetTCPPort554IPurn:ietf:params:mud:co...  \n",
       "3      FromInternetTCPPort554IPurn:ietf:params:mud:co...  \n",
       "4      FromInternetTCPPort80IPurn:ietf:params:mud:con...  \n",
       "...                                                  ...  \n",
       "29651  ToInternetUDPPort1024IPurn:ietf:params:mud:con...  \n",
       "29652        ToLocalUDPPort5353IP224.0.0.251/32ByteCount  \n",
       "29653      ToLocalUDPPort5353IP224.0.0.251/32PacketCount  \n",
       "29654      ToLocalUDPPort67IP255.255.255.255/32ByteCount  \n",
       "29655    ToLocalUDPPort67IP255.255.255.255/32PacketCount  \n",
       "\n",
       "[29656 rows x 7 columns]"
      ]
     },
     "execution_count": 10,
     "metadata": {},
     "output_type": "execute_result"
    }
   ],
   "source": [
    "summary"
   ]
  },
  {
   "cell_type": "code",
   "execution_count": null,
   "metadata": {},
   "outputs": [],
   "source": []
  }
 ],
 "metadata": {
  "kernelspec": {
   "display_name": "Python 3.8.1 64-bit",
   "language": "python",
   "name": "python3"
  },
  "language_info": {
   "codemirror_mode": {
    "name": "ipython",
    "version": 3
   },
   "file_extension": ".py",
   "mimetype": "text/x-python",
   "name": "python",
   "nbconvert_exporter": "python",
   "pygments_lexer": "ipython3",
   "version": "3.8.1"
  },
  "orig_nbformat": 4,
  "vscode": {
   "interpreter": {
    "hash": "2837039cd81ded631f3ebe0e9033c07c01b44eeec4b466c20c31ae00df3c0874"
   }
  }
 },
 "nbformat": 4,
 "nbformat_minor": 2
}
