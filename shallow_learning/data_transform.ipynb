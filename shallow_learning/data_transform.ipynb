{
 "cells": [
  {
   "cell_type": "code",
   "execution_count": 9,
   "metadata": {},
   "outputs": [],
   "source": [
    "from unicodedata import numeric\n",
    "import pandas as pd\n",
    "import numpy as np\n",
    "from tqdm import tqdm\n",
    "import re"
   ]
  },
  {
   "cell_type": "code",
   "execution_count": 10,
   "metadata": {},
   "outputs": [],
   "source": [
    "# df = pd.read_csv('../data/datascience-cis-2022.csv')\n",
    "# devices = ['bd:0d:8e:c5', 'bd:24:bb:1e', 'bd:0d:af:0b', 'ee:dd:34:1d', 'ee:dd:39:08', 'ee:dd:39:09']\n",
    "# small_df = df.loc[df['device_mac'].isin(devices)]\n",
    "# small_df.to_csv('../data/small_data.csv',index=False)"
   ]
  },
  {
   "cell_type": "code",
   "execution_count": 11,
   "metadata": {},
   "outputs": [],
   "source": [
    "df = pd.read_csv('../data/small_data.csv')\n",
    "df['time'] = pd.to_datetime(df['time'])\n",
    "df = df.set_index('time')"
   ]
  },
  {
   "cell_type": "code",
   "execution_count": 12,
   "metadata": {},
   "outputs": [
    {
     "name": "stdout",
     "output_type": "stream",
     "text": [
      "FromInternetTCPPort443IPurn:ietf:params:mud:controllerByteCount\n",
      "FromInternetTCPPort443IPurn:ietf:params:mud:controllerPacketCount\n",
      "ToInternetTCPPort443IPurn:ietf:params:mud:controllerByteCount\n",
      "ToInternetTCPPort443IPurn:ietf:params:mud:controllerPacketCount\n"
     ]
    }
   ],
   "source": [
    "for col in df.columns:\n",
    "    if (df[col] == 0).all():\n",
    "        print(col)"
   ]
  },
  {
   "cell_type": "code",
   "execution_count": 14,
   "metadata": {},
   "outputs": [],
   "source": [
    "def nonzero_proportion(x):\n",
    "    return (x!=0).mean()"
   ]
  },
  {
   "cell_type": "code",
   "execution_count": 15,
   "metadata": {},
   "outputs": [],
   "source": [
    "numeric_cols = list(df.columns)[:-1]\n",
    "funcs = {'mean':np.mean, 'std':np.std, 'max':np.max, 'min':np.min, 'nonzero_p':nonzero_proportion}"
   ]
  },
  {
   "cell_type": "code",
   "execution_count": 16,
   "metadata": {},
   "outputs": [],
   "source": [
    "df['time_group'] = df.index.to_period('H').strftime('%d_%H')"
   ]
  },
  {
   "cell_type": "code",
   "execution_count": 17,
   "metadata": {},
   "outputs": [],
   "source": [
    "summary = {key: [] for key in funcs.keys()}\n",
    "summary['info'] = []\n",
    "summary['target'] = []"
   ]
  },
  {
   "cell_type": "code",
   "execution_count": 18,
   "metadata": {},
   "outputs": [
    {
     "name": "stderr",
     "output_type": "stream",
     "text": [
      "100%|██████████| 337/337 [00:48<00:00,  6.99it/s]\n"
     ]
    }
   ],
   "source": [
    "for time_slice in tqdm(df['time_group'].unique()):\n",
    "    for device in (df['device_mac'].unique()):\n",
    "        tmp = df.loc[(df['time_group']==time_slice)&(df['device_mac']==device)][numeric_cols]\n",
    "        for col in tmp.columns:\n",
    "            for k in funcs.keys():\n",
    "                summary[k].append(funcs[k](tmp[col]))\n",
    "            summary['info'].append(device+'_'+time_slice)\n",
    "            summary['target'].append(col)"
   ]
  },
  {
   "cell_type": "code",
   "execution_count": 19,
   "metadata": {},
   "outputs": [],
   "source": [
    "summary = pd.DataFrame(summary)\n",
    "summary.to_csv('../data/transformed_data.csv',index=False)"
   ]
  },
  {
   "cell_type": "code",
   "execution_count": 26,
   "metadata": {},
   "outputs": [],
   "source": [
    "target_mapper = {v:i for i,v in enumerate(sorted(summary['target'].unique()))}"
   ]
  },
  {
   "cell_type": "code",
   "execution_count": 27,
   "metadata": {},
   "outputs": [],
   "source": [
    "import json"
   ]
  },
  {
   "cell_type": "code",
   "execution_count": 28,
   "metadata": {},
   "outputs": [],
   "source": [
    "with open('target_mappings.json','w') as f:\n",
    "    json.dump(target_mapper, f)"
   ]
  },
  {
   "cell_type": "code",
   "execution_count": null,
   "metadata": {},
   "outputs": [],
   "source": []
  }
 ],
 "metadata": {
  "kernelspec": {
   "display_name": "Python 3.8.3 ('base')",
   "language": "python",
   "name": "python3"
  },
  "language_info": {
   "codemirror_mode": {
    "name": "ipython",
    "version": 3
   },
   "file_extension": ".py",
   "mimetype": "text/x-python",
   "name": "python",
   "nbconvert_exporter": "python",
   "pygments_lexer": "ipython3",
   "version": "3.8.3"
  },
  "orig_nbformat": 4,
  "vscode": {
   "interpreter": {
    "hash": "d32be023299b36e95e83460c9fe7a381c161ec6d14b41d5fdfdf67df3e46ffc4"
   }
  }
 },
 "nbformat": 4,
 "nbformat_minor": 2
}
